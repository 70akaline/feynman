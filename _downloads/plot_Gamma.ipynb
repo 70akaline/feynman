{
  "nbformat_minor": 0, 
  "nbformat": 4, 
  "cells": [
    {
      "execution_count": null, 
      "cell_type": "code", 
      "source": [
        "%matplotlib inline"
      ], 
      "outputs": [], 
      "metadata": {
        "collapsed": false
      }
    }, 
    {
      "source": [
        "\nThe Gamma function\n==================\n\nA diagram containing operators of various orders.\n\n"
      ], 
      "cell_type": "markdown", 
      "metadata": {}
    }, 
    {
      "execution_count": null, 
      "cell_type": "code", 
      "source": [
        "import numpy as np\nimport matplotlib.pyplot as plt\nfrom feynman import Diagram\n\n# Set up the figure and ax\nfig = plt.figure(figsize=(9,3))\nax = fig.add_axes([0,0,1,1], frameon=False)\n\nax.set_xlim(0, 3)\nax.set_ylim(0, 1)\n\ny0 = sum(ax.get_ylim())/2.\n\nside = 0.3\ngammalen = side * np.sqrt(3) / 2\nlinlen = 0.3\ntxtpad = 0.2\ntail_marker = 'o'\n\nW_style = dict(style = 'double wiggly', nwiggles=2)\nv_style = dict(style = 'simple wiggly', nwiggles=2)\nG_style = dict(style = 'double',  arrow=True, arrow_param={'width':0.05})\n\nD = Diagram(ax)\n\n# Left hand size\nxy = [0.4, y0]\nv11 = D.vertex(xy, dy= side/2)\nv12 = D.vertex(xy, dy=-side/2)\nv13 = D.vertex(xy, dx=gammalen)\ngamma0 = D.operator([v11,v12,v13])\ngamma0.text(\"$\\Gamma$\")\n\n# Symbol\nD.text(v13.x + txtpad, y0, \"=\")\n\n# Create a three-vertex dot.\nchunkdist = .03\nchunklen = .03\nchunkstyle=dict(arrow=False, linewidth=6.)\nv20 = D.vertex([v13.x + 2 * txtpad, y0])\nv210 = D.vertex(v20.xy, angle=0.,   radius=chunkdist, marker='')\nv220 = D.vertex(v20.xy, angle=1./3, radius=chunkdist, marker='')\nv230 = D.vertex(v20.xy, angle=2./3, radius=chunkdist, marker='')\nv21  = D.vertex(v20.xy, angle=0.,   radius=chunkdist+chunklen, marker='')\nv22  = D.vertex(v20.xy, angle=1./3, radius=chunkdist+chunklen, marker='')\nv23  = D.vertex(v20.xy, angle=2./3, radius=chunkdist+chunklen, marker='')\nD.line(v210, v21, **chunkstyle)\nD.line(v220, v22, **chunkstyle)\nD.line(v230, v23, **chunkstyle)\n\n# Symbol\nD.text(v20.x + txtpad, y0, \"+\")\n\n# Second term\nxy = [v20.x + 2 * txtpad, y0]\nv31 = D.vertex(xy, dy= side/2)\nv32 = D.vertex(xy, dy=-side/2)\nv33 = D.vertex(xy, dy= side/2, dx=side)\nv34 = D.vertex(xy, dy=-side/2, dx=side)\nK = D.operator([v31,v32,v34,v33])\nK.text(\"$\\\\frac{\\delta \\Sigma}{\\delta G}$\")\n\nv41 = D.vertex(v33.xy, dx=linlen)\nv42 = D.vertex(v34.xy, dx=linlen)\nv43 = D.vertex((v41.xy+v42.xy)/2, dx=gammalen)\n\nG1 = D.line(v41, v33, **G_style)\nG2 = D.line(v34, v42, **G_style)\n\ngamma1 = D.operator([v41,v42,v43])\ngamma1.text(\"$\\Gamma$\")\n\n\n# Plot and show\nD.plot()\nplt.show()"
      ], 
      "outputs": [], 
      "metadata": {
        "collapsed": false
      }
    }
  ], 
  "metadata": {
    "kernelspec": {
      "display_name": "Python 2", 
      "name": "python2", 
      "language": "python"
    }, 
    "language_info": {
      "mimetype": "text/x-python", 
      "nbconvert_exporter": "python", 
      "name": "python", 
      "file_extension": ".py", 
      "version": "2.7.10", 
      "pygments_lexer": "ipython2", 
      "codemirror_mode": {
        "version": 2, 
        "name": "ipython"
      }
    }
  }
}