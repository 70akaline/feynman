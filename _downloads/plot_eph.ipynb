{
  "nbformat_minor": 0, 
  "nbformat": 4, 
  "cells": [
    {
      "execution_count": null, 
      "cell_type": "code", 
      "source": [
        "%matplotlib inline"
      ], 
      "outputs": [], 
      "metadata": {
        "collapsed": false
      }
    }, 
    {
      "source": [
        "\nElectron-phonon coupling self-energy\n====================================\n\nA diagram containing loopy lines.\n\n"
      ], 
      "cell_type": "markdown", 
      "metadata": {}
    }, 
    {
      "execution_count": null, 
      "cell_type": "code", 
      "source": [
        "from feynman import Diagram\nimport matplotlib.pyplot as plt\n\nfig = plt.figure(figsize=(8,2))\nax = fig.add_axes([0,0,1,1], frameon=False)\n\nax.set_xlim(0, fig.get_size_inches()[0])\nax.set_ylim(0, fig.get_size_inches()[1])\n\n# Init D and ax\nD = Diagram(ax)\n\nD.x0 = 0.2\nD.y0 = sum(D.ax.get_ylim()) * .35\n\n# Various size\nopwidth = 1.\nlinlen = 2.\ntxtpad = .8\nwiggle_amplitude=.1\n\n# Line styles\nPh_style = dict(style='elliptic loopy', ellipse_spread=.6, xamp=.10, yamp=-.15, nloops=15)\nDW_style = dict(style='circular loopy', circle_radius=.7, xamp=.10, yamp=.15, nloops=18)\nG_style = dict(style='simple', arrow=True, arrow_param={'width':0.15, 'length': .3})\n\n# Item 1\nv11 = D.vertex([D.x0, D.y0])\nv12 = D.vertex(v11.xy, dx=opwidth)\nSigma = D.operator([v11, v12])\nSigma.text(\"$\\Sigma^{ep}$\")\n\n# Symbol\nD.text(v12.x + txtpad, D.y0, \"=\")\n\n# Item 3\nv21 = D.vertex([v12.x + 2 * txtpad,  D.y0 - 0.3])\nv22 = D.vertex(v21.xy, dx=linlen)\nG = D.line(v21, v22, **G_style)\nPh = D.line(v21, v22, **Ph_style)\n\n# Symbol\nD.text(v22.x + txtpad, D.y0, \"+\")\n\n# Item 3\nv31 = D.vertex([v22.x + 3 * txtpad,  D.y0 - 0.3])\nDW = D.line(v31, v31, **DW_style)\n\nD.plot()\nplt.show()"
      ], 
      "outputs": [], 
      "metadata": {
        "collapsed": false
      }
    }
  ], 
  "metadata": {
    "kernelspec": {
      "display_name": "Python 2", 
      "name": "python2", 
      "language": "python"
    }, 
    "language_info": {
      "mimetype": "text/x-python", 
      "nbconvert_exporter": "python", 
      "name": "python", 
      "file_extension": ".py", 
      "version": "2.7.10", 
      "pygments_lexer": "ipython2", 
      "codemirror_mode": {
        "version": 2, 
        "name": "ipython"
      }
    }
  }
}