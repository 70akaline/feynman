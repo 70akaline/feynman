{
  "nbformat_minor": 0, 
  "nbformat": 4, 
  "cells": [
    {
      "execution_count": null, 
      "cell_type": "code", 
      "source": [
        "%matplotlib inline"
      ], 
      "outputs": [], 
      "metadata": {
        "collapsed": false
      }
    }, 
    {
      "source": [
        "\nDyson equation\n==============\n\nA dyson equation.\n\n"
      ], 
      "cell_type": "markdown", 
      "metadata": {}
    }, 
    {
      "execution_count": null, 
      "cell_type": "code", 
      "source": [
        "import matplotlib.pyplot as plt\nfrom feynman import Diagram\n\n# Set up the figure and ax\nfig = plt.figure(figsize=(10,1.5))\nax = fig.add_axes([.0,.0,1.,1.], frameon=False)\n\nax.set_xlim(0, 1.0)\nax.set_ylim(0, .15)\n\nl = 0.15  # Length of the propagator\ntxt_l = 0.05  # Padding around the symbol\nop_l = 0.08  # Size of the operator\n\nG_style = dict(arrow=True, arrow_param={'width':0.02, 'length': 0.05}, style = 'double')\nG0_style = dict(arrow=True, arrow_param={'width':0.02, 'length': 0.05}, style = 'simple')\ntext_prop = dict(y=0.02, fontsize=20)\n\nD = Diagram(ax)\n\n# Left hand side\nv11 = D.vertex(xy=[0.05, 0.06])\nv12 = D.vertex(v11.xy, dx=l)\nG = D.line(v11, v12, **G_style)\nG.text(\"$G$\", **text_prop)\n\n# Symbol\nD.text(v12.x + txt_l, v12.y, \"=\")\n\n# First term\nv21 = D.vertex(v12.xy, dx=2*txt_l)\nv22 = D.vertex(v21.xy, dx=l)\nG0 = D.line(v21, v22, **G0_style)\nG0.text(\"$G_0$\", **text_prop)\n\n# Symbol\nD.text(v22.x + txt_l, v22.y, \"+\")\n\n# Second term\nv31 = D.vertex(v22.xy, dx=2*txt_l)\nv32 = D.vertex(v31.xy, dx=l)\nv33 = D.vertex(v32.xy, dx=op_l)\nv34 = D.vertex(v33.xy, dx=l)\nD.line(v31, v32, **G0_style)\nD.line(v33, v34, **G_style)\nO = D.operator([v32,v33])\nO.text(\"$\\Sigma$\")\n\n# Plot and show\nD.plot()\nplt.show()"
      ], 
      "outputs": [], 
      "metadata": {
        "collapsed": false
      }
    }
  ], 
  "metadata": {
    "kernelspec": {
      "display_name": "Python 2", 
      "name": "python2", 
      "language": "python"
    }, 
    "language_info": {
      "mimetype": "text/x-python", 
      "nbconvert_exporter": "python", 
      "name": "python", 
      "file_extension": ".py", 
      "version": "2.7.10", 
      "pygments_lexer": "ipython2", 
      "codemirror_mode": {
        "version": 2, 
        "name": "ipython"
      }
    }
  }
}