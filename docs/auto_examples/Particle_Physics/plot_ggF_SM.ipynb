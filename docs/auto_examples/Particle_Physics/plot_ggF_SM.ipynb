{
  "nbformat_minor": 0, 
  "nbformat": 4, 
  "cells": [
    {
      "execution_count": null, 
      "cell_type": "code", 
      "source": [
        "%matplotlib inline"
      ], 
      "outputs": [], 
      "metadata": {
        "collapsed": false
      }
    }, 
    {
      "source": [
        "\nggFZZ SM\n========\n\nThe gluon-gluon fusion.\n\n"
      ], 
      "cell_type": "markdown", 
      "metadata": {}
    }, 
    {
      "execution_count": null, 
      "cell_type": "code", 
      "source": [
        "import matplotlib.pyplot as plt\nfrom feynman import Diagram\n\nfig = plt.figure(figsize=(10.,10.))\nax = fig.add_axes([0,0,1,1], frameon=False)\n\ndiagram = Diagram(ax)\n#diagram.text(.5,0.9,\"Gluon-Gluon Fusion (ggF)\",fontsize=40)\nin1 = diagram.vertex(xy=(.1,.7), marker='')\nin2= diagram.vertex(xy=(.1,.3), marker='')\nv1 = diagram.vertex(xy=(.4,.7))\nv2 = diagram.vertex(xy=(.4,.3))\nv3 = diagram.vertex(xy=(.6,.5))\nhiggsout = diagram.vertex(xy=(.9,.5))\n\ngluon_style = dict(style='linear loopy', xamp=.025, yamp=.035, nloops=7)\n\ng1 = diagram.line(in1, v1, **gluon_style)\ng2 = diagram.line(in2, v2, **gluon_style)\nt1 = diagram.line(v1, v2)\nt2 = diagram.line(v2, v3)\nt3 = diagram.line(v3, v1)\nhiggs = diagram.line(v3, higgsout, arrow=False, style='dashed')\n\ng1.text(\"g\",fontsize=30)\ng2.text(\"g\",fontsize=30)\nt1.text(\"t\",fontsize=30)\nt2.text(\"t\",fontsize=30)\nt3.text(r\"$\\bar{\\mathrm{t}}$\",fontsize=35)\nhiggs.text(\"H\",fontsize=30)\n\ndiagram.plot()\nplt.show()"
      ], 
      "outputs": [], 
      "metadata": {
        "collapsed": false
      }
    }
  ], 
  "metadata": {
    "kernelspec": {
      "display_name": "Python 2", 
      "name": "python2", 
      "language": "python"
    }, 
    "language_info": {
      "mimetype": "text/x-python", 
      "nbconvert_exporter": "python", 
      "name": "python", 
      "file_extension": ".py", 
      "version": "2.7.10", 
      "pygments_lexer": "ipython2", 
      "codemirror_mode": {
        "version": 2, 
        "name": "ipython"
      }
    }
  }
}