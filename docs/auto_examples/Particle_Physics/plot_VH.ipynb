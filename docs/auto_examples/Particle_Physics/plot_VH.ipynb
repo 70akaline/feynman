{
  "nbformat_minor": 0, 
  "nbformat": 4, 
  "cells": [
    {
      "execution_count": null, 
      "cell_type": "code", 
      "source": [
        "%matplotlib inline"
      ], 
      "outputs": [], 
      "metadata": {
        "collapsed": false
      }
    }, 
    {
      "source": [
        "\nVH\n==\n\nHiggs Strahlung.\n\n"
      ], 
      "cell_type": "markdown", 
      "metadata": {}
    }, 
    {
      "execution_count": null, 
      "cell_type": "code", 
      "source": [
        "import matplotlib.pyplot as plt\nfrom feynman import Diagram\n\nfig = plt.figure(figsize=(10.,10.))\nax = fig.add_axes([0,0,1,1], frameon=False)\n\ndiagram = Diagram(ax)\ndiagram.text(.4,0.9,\"Associated Vector Boson\", fontsize=40)\ndiagram.text(.6,0.83,\"(VH or 'Higgs Strahlung')\", fontsize=40)\nin1 = diagram.vertex(xy=(.1,.75), marker='')\nin2= diagram.vertex(xy=(.1,.25), marker='')\nv1 = diagram.vertex(xy=(.35,.5))\nv2 = diagram.vertex(xy=(.65,.5))\nhiggsout = diagram.vertex(xy=(.9,.75))\nout1 = diagram.vertex(xy=(.9,.25),marker='')\n\nq1 = diagram.line(in1, v1)\nq2 = diagram.line(v1, in2)\nwz1 = diagram.line(v1, v2, style='wiggly')\nwz2 = diagram.line(v2, out1, style='wiggly')\nhiggs = diagram.line(v2, higgsout, arrow=False, style='dashed')\n\nq1.text(\"q\",fontsize=30)\nq2.text(r\"$\\bar{\\mathrm{q}}$\",fontsize=30)\ndiagram.text(0.5,0.55,\"$Z/W^\\pm$\",fontsize=30)\ndiagram.text(0.69,0.35,\"$Z/W^\\pm$\",fontsize=30)\nhiggs.text(\"H\",fontsize=30)\n\ndiagram.plot()\nplt.show()"
      ], 
      "outputs": [], 
      "metadata": {
        "collapsed": false
      }
    }
  ], 
  "metadata": {
    "kernelspec": {
      "display_name": "Python 2", 
      "name": "python2", 
      "language": "python"
    }, 
    "language_info": {
      "mimetype": "text/x-python", 
      "nbconvert_exporter": "python", 
      "name": "python", 
      "file_extension": ".py", 
      "version": "2.7.10", 
      "pygments_lexer": "ipython2", 
      "codemirror_mode": {
        "version": 2, 
        "name": "ipython"
      }
    }
  }
}