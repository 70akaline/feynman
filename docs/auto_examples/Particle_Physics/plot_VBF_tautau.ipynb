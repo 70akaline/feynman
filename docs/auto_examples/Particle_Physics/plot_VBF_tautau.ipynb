{
  "nbformat_minor": 0, 
  "nbformat": 4, 
  "cells": [
    {
      "execution_count": null, 
      "cell_type": "code", 
      "source": [
        "%matplotlib inline"
      ], 
      "outputs": [], 
      "metadata": {
        "collapsed": false
      }
    }, 
    {
      "source": [
        "\nVBH tau-tau\n===========\n\nVector Boson Fusion.\n\n"
      ], 
      "cell_type": "markdown", 
      "metadata": {}
    }, 
    {
      "execution_count": null, 
      "cell_type": "code", 
      "source": [
        "import matplotlib.pyplot as plt\nfrom feynman import Diagram\n\nfig = plt.figure(figsize=(10.,10.))\nax = fig.add_axes([0,0,1,1], frameon=False)\n\ndiagram = Diagram(ax)\n#diagram.text(.5,0.9,r\"Vector Boson Fusion (VBF) Higgs $\\rightarrow\\tau\\tau$\",fontsize=40)\nin1 = diagram.vertex(xy=(.1,.8), marker='')\nin2= diagram.vertex(xy=(.1,.2), marker='')\nv1 = diagram.vertex(xy=(.3,.7))\nv2 = diagram.vertex(xy=(.3,.3))\nv3 = diagram.vertex(xy=(.5,.5))\nout1 = diagram.vertex(xy=(.9,.8), marker='')\nout2 = diagram.vertex(xy=(.9,.2), marker='')\nhiggsf = diagram.vertex(xy=(.7,.5))\ntau1 = diagram.vertex(xy=(.9,.7), marker='')\ntau2 = diagram.vertex(xy=(.9,.3), marker='')\n\nq1 = diagram.line(in1, v1, arrow=False)\nq2 = diagram.line(in2, v2, arrow=False)\nwz1 = diagram.line(v1, v3, style='wiggly')\nwz2 = diagram.line(v2, v3, style='wiggly')\nhiggs = diagram.line(v3, higgsf, style='dashed', arrow=False)\nq3 = diagram.line(v1, out1, arrow=False)\nq4 = diagram.line(v2, out2, arrow=False)\nt1 = diagram.line(higgsf, tau1)\nt2 = diagram.line(tau2, higgsf)\n\nq1.text(\"$q_1$\",fontsize=30)\nq2.text(\"$q_2$\",fontsize=30)\ndiagram.text(v3.xy[0], v3.xy[1]+0.11, \"$Z/W^\\pm$\",fontsize=30)\nwz2.text(\"$Z/W^\\pm$\",fontsize=30)\nq3.text(\"$q_3$\",fontsize=30)\nq4.text(\"$q_4$\",fontsize=30)\nhiggs.text(\"$H$\",fontsize=30)\nt1.text(r\"$\\tau^-$\",fontsize=35)\nt2.text(r\"$\\tau^+$\",fontsize=35)\n\ndiagram.plot()\nplt.show()"
      ], 
      "outputs": [], 
      "metadata": {
        "collapsed": false
      }
    }
  ], 
  "metadata": {
    "kernelspec": {
      "display_name": "Python 2", 
      "name": "python2", 
      "language": "python"
    }, 
    "language_info": {
      "mimetype": "text/x-python", 
      "nbconvert_exporter": "python", 
      "name": "python", 
      "file_extension": ".py", 
      "version": "2.7.10", 
      "pygments_lexer": "ipython2", 
      "codemirror_mode": {
        "version": 2, 
        "name": "ipython"
      }
    }
  }
}