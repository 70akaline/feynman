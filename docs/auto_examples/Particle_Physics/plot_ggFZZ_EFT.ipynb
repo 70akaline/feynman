{
  "nbformat_minor": 0, 
  "nbformat": 4, 
  "cells": [
    {
      "execution_count": null, 
      "cell_type": "code", 
      "source": [
        "%matplotlib inline"
      ], 
      "outputs": [], 
      "metadata": {
        "collapsed": false
      }
    }, 
    {
      "source": [
        "\nggFZZ EFT\n=========\n\nThe gluon-gluon fusion.\n\n"
      ], 
      "cell_type": "markdown", 
      "metadata": {}
    }, 
    {
      "execution_count": null, 
      "cell_type": "code", 
      "source": [
        "import matplotlib.pyplot as plt\nfrom feynman import Diagram\n\nfig = plt.figure(figsize=(10.,10.))\nax = fig.add_axes([0,0,1,1], frameon=False)\n\ndiagram = Diagram(ax)\n#diagram.text(.5,0.9,\"Gluon-Gluon Fusion (ggF)\",fontsize=40)\nin1 = diagram.vertex(xy=(.05,.7), marker='')\nin2= diagram.vertex(xy=(.05,.3), marker='')\nv1 = diagram.vertex(xy=(.25,.7))\nv2 = diagram.vertex(xy=(.25,.3))\nv3 = diagram.vertex(xy=(.45,.5))\nhiggsout = diagram.vertex(xy=(.60,.5))\nzout1 = diagram.vertex(xy=(.85,.7), marker='')\nzout2 = diagram.vertex(xy=(.85,.3), marker='')\n\ngluon_style = dict(style='linear loopy', xamp=.025, yamp=.035, nloops=4)\n\ng1 = diagram.line(in1, v1, **gluon_style)\ng2 = diagram.line(in2, v2, **gluon_style)\nt1 = diagram.line(v1, v2)\nt2 = diagram.line(v2, v3)\nt3 = diagram.line(v3, v1)\nhiggs = diagram.line(v3, higgsout, arrow=False, style='dashed')\nz1 = diagram.line(higgsout, zout1,arrow=False, style='wiggly')\nz2 = diagram.line(zout2, higgsout,arrow=False, style='wiggly')\n\ng1.text(\"$g$\",fontsize=30)\ng2.text(\"$g$\",fontsize=30)\ndiagram.text(zout1.xy[0]+.025,zout1.xy[1],\"$Z$\",fontsize=30)\ndiagram.text(zout2.xy[0]+.025,zout2.xy[1],\"$Z$\",fontsize=30)\nt1.text(\"$t$\",fontsize=30)\nt2.text(\"$t$\",fontsize=30)\nt3.text(r\"$\\bar{t}$\",fontsize=30)\nhiggs.text(\"H\",fontsize=30)\ndiagram.text(higgsout.xy[0]+0.24, higgsout.xy[1],\n             \"$\\kappa_\\mathrm{SM}/\\kappa_{AZZ}/\\kappa_{HZZ}$\",fontsize=30)\n\ndiagram.plot()\nplt.show()"
      ], 
      "outputs": [], 
      "metadata": {
        "collapsed": false
      }
    }
  ], 
  "metadata": {
    "kernelspec": {
      "display_name": "Python 2", 
      "name": "python2", 
      "language": "python"
    }, 
    "language_info": {
      "mimetype": "text/x-python", 
      "nbconvert_exporter": "python", 
      "name": "python", 
      "file_extension": ".py", 
      "version": "2.7.10", 
      "pygments_lexer": "ipython2", 
      "codemirror_mode": {
        "version": 2, 
        "name": "ipython"
      }
    }
  }
}