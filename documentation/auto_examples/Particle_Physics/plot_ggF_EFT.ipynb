{
  "nbformat_minor": 0, 
  "nbformat": 4, 
  "cells": [
    {
      "execution_count": null, 
      "cell_type": "code", 
      "source": [
        "%matplotlib inline"
      ], 
      "outputs": [], 
      "metadata": {
        "collapsed": false
      }
    }, 
    {
      "source": [
        "\nggF EFT\n=========\n\nThe gluon-gluon fusion.\n\n"
      ], 
      "cell_type": "markdown", 
      "metadata": {}
    }, 
    {
      "execution_count": null, 
      "cell_type": "code", 
      "source": [
        "import matplotlib.pyplot as plt\nfrom feynman import Diagram\n\nfig = plt.figure(figsize=(10.,10.))\nax = fig.add_axes([0,0,1,1], frameon=False)\n\ndiagram = Diagram(ax)\nin1 = diagram.vertex(xy=(.1,.6), marker='')\nin2= diagram.vertex(xy=(.1,.4), marker='')\nv1 = diagram.vertex(xy=(.4,.6))\nv2 = diagram.vertex(xy=(.4,.4))\nv3 = diagram.vertex(xy=(.6,.5))\nv4 = diagram.vertex(xy=(.34,.5), marker='')\nhiggsout = diagram.vertex(xy=(.9,.5))\nepsilon = diagram.operator([v4,v3], c=1.1)\nepsilon.text(\"Effective \\n coupling\", fontsize=30)\n\ngluon_up_style = dict(style='linear loopy', xamp=.025, yamp=.035, nloops=7)\ngluon_down_style = dict(style='linear loopy', xamp=.025, yamp=-.035, nloops=7)\n\ng1 = diagram.line(in1, v1, **gluon_up_style)\ng2 = diagram.line(in2, v2, **gluon_down_style)\n\nhiggs = diagram.line(v3, higgsout, arrow=False, style='dashed')\n\ng1.text(\"g\",fontsize=30)\ndiagram.text(v4.xy[0]-.08, v4.xy[1]-.05, \"g\",fontsize=35)\nhiggs.text(\"H\",fontsize=30)\n\ndiagram.plot()\nplt.show()"
      ], 
      "outputs": [], 
      "metadata": {
        "collapsed": false
      }
    }
  ], 
  "metadata": {
    "kernelspec": {
      "display_name": "Python 2", 
      "name": "python2", 
      "language": "python"
    }, 
    "language_info": {
      "mimetype": "text/x-python", 
      "nbconvert_exporter": "python", 
      "name": "python", 
      "file_extension": ".py", 
      "version": "2.7.10", 
      "pygments_lexer": "ipython2", 
      "codemirror_mode": {
        "version": 2, 
        "name": "ipython"
      }
    }
  }
}