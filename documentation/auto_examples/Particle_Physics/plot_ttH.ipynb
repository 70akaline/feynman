{
  "nbformat_minor": 0, 
  "nbformat": 4, 
  "cells": [
    {
      "execution_count": null, 
      "cell_type": "code", 
      "source": [
        "%matplotlib inline"
      ], 
      "outputs": [], 
      "metadata": {
        "collapsed": false
      }
    }, 
    {
      "source": [
        "\nttH\n===\n\nThe ttH diagram.\n\n"
      ], 
      "cell_type": "markdown", 
      "metadata": {}
    }, 
    {
      "execution_count": null, 
      "cell_type": "code", 
      "source": [
        "import matplotlib.pyplot as plt\nfrom feynman import Diagram\n\nfig = plt.figure(figsize=(10.,10.))\nax = fig.add_axes([0,0,1,1], frameon=False)\n\ndiagram = Diagram(ax)\ndiagram.text(.5,0.9,\"Associated Top Pair (ttH)\", fontsize=40)\nin1 = diagram.vertex(xy=(.1,.8), marker='')\nin2= diagram.vertex(xy=(.1,.2), marker='')\nv1 = diagram.vertex(xy=(.4,.7))\nv2 = diagram.vertex(xy=(.4,.3))\nv3 = diagram.vertex(xy=(.6,.5))\nout1 = diagram.vertex(xy=(.9,.8), marker='')\nout2 = diagram.vertex(xy=(.9,.2), marker='')\nhiggsout = diagram.vertex(xy=(.9,.5))\n\ng1 = diagram.line(in1, v1, style='loopy',nloops=7,yamp=0.04)\ng2 = diagram.line(in2, v2, style='loopy',nloops=7,yamp=0.04)\nt1 = diagram.line(v3, v1, arrow = True)\nt2 = diagram.line(v2, v3, arrow = True)\nhiggs = diagram.line(v3, higgsout, arrow=False, style='dashed')\nt3 = diagram.line(v1, out1, arrow=True)\nt4 = diagram.line(out2, v2, arrow=True)\n\ng1.text(\"g\",fontsize=30)\ng2.text(\"g\",fontsize=30)\ndiagram.text(v3.xy[0], v3.xy[1]+0.1, r\"$\\bar{\\mathrm{t}}$\",fontsize=35)\nt2.text(\"t\",fontsize=30)\nt3.text(\"t\",fontsize=30)\nt4.text(r\"$\\bar{\\mathrm{t}}$\",fontsize=30)\nhiggs.text(\"H\",fontsize=35)\n\ndiagram.plot()\nplt.show()"
      ], 
      "outputs": [], 
      "metadata": {
        "collapsed": false
      }
    }
  ], 
  "metadata": {
    "kernelspec": {
      "display_name": "Python 2", 
      "name": "python2", 
      "language": "python"
    }, 
    "language_info": {
      "mimetype": "text/x-python", 
      "nbconvert_exporter": "python", 
      "name": "python", 
      "file_extension": ".py", 
      "version": "2.7.10", 
      "pygments_lexer": "ipython2", 
      "codemirror_mode": {
        "version": 2, 
        "name": "ipython"
      }
    }
  }
}