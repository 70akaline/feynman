{
  "nbformat_minor": 0, 
  "nbformat": 4, 
  "cells": [
    {
      "execution_count": null, 
      "cell_type": "code", 
      "source": [
        "%matplotlib inline"
      ], 
      "outputs": [], 
      "metadata": {
        "collapsed": false
      }
    }, 
    {
      "source": [
        "\nGW self-energy\n==============\n\nA diagram containing double lines.\n\n"
      ], 
      "cell_type": "markdown", 
      "metadata": {}
    }, 
    {
      "execution_count": null, 
      "cell_type": "code", 
      "source": [
        "import matplotlib.pyplot as plt\nfrom feynman import Diagram\n\nfig = plt.figure(figsize=(8,2))\nax = fig.add_axes([0,0,1,1], frameon=False)\n\nax.set_xlim(0, 1)\nax.set_ylim(0,.25)\n\n# Sigma operator\nD = Diagram(ax)\n\nv11 = D.vertex([.1, .08])\nv12 = D.vertex(v11.xy, dx=.15)\n\nSigma = D.operator([v11, v12])\nSigma.text(\"$\\Sigma$\")\n\n# Symbols\nD.text(v12.x+.1, v12.y, \"=\")\n\n# GW convolution\nv21 = D.vertex(v12.xy, dxy=[0.2, -0.04])\nv22 = D.vertex(v21.xy, dx=0.4)\n\nl21 = D.line(v21, v22, style='double', arrow=True)\n\n# Specifying the number of wiggles and the amplitude of the wiggles\nl22 = D.line(v21, v22, style='double wiggly elliptic', nwiggles=5.5, amplitude=0.015)\n\n# 't' is the coordinate along the line (from 0 to 1)\nl21.text(\"G\", t=0.4, y=.025, fontsize=24)\nl22.text(\"W\", y=-.06, fontsize=24)\n\n# Plot and show\nD.plot()\nplt.show()"
      ], 
      "outputs": [], 
      "metadata": {
        "collapsed": false
      }
    }
  ], 
  "metadata": {
    "kernelspec": {
      "display_name": "Python 2", 
      "name": "python2", 
      "language": "python"
    }, 
    "language_info": {
      "mimetype": "text/x-python", 
      "nbconvert_exporter": "python", 
      "name": "python", 
      "file_extension": ".py", 
      "version": "2.7.10", 
      "pygments_lexer": "ipython2", 
      "codemirror_mode": {
        "version": 2, 
        "name": "ipython"
      }
    }
  }
}